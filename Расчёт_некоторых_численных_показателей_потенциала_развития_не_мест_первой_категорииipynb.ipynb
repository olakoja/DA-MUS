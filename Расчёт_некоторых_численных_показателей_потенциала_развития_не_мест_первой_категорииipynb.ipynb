{
  "cells": [
    {
      "cell_type": "markdown",
      "metadata": {
        "id": "view-in-github",
        "colab_type": "text"
      },
      "source": [
        "<a href=\"https://colab.research.google.com/github/olakoja/DA-MUS/blob/main/%D0%A0%D0%B0%D1%81%D1%87%D1%91%D1%82_%D0%BD%D0%B5%D0%BA%D0%BE%D1%82%D0%BE%D1%80%D1%8B%D1%85_%D1%87%D0%B8%D1%81%D0%BB%D0%B5%D0%BD%D0%BD%D1%8B%D1%85_%D0%BF%D0%BE%D0%BA%D0%B0%D0%B7%D0%B0%D1%82%D0%B5%D0%BB%D0%B5%D0%B9_%D0%BF%D0%BE%D1%82%D0%B5%D0%BD%D1%86%D0%B8%D0%B0%D0%BB%D0%B0_%D1%80%D0%B0%D0%B7%D0%B2%D0%B8%D1%82%D0%B8%D1%8F_%D0%BD%D0%B5_%D0%BC%D0%B5%D1%81%D1%82_%D0%BF%D0%B5%D1%80%D0%B2%D0%BE%D0%B9_%D0%BA%D0%B0%D1%82%D0%B5%D0%B3%D0%BE%D1%80%D0%B8%D0%B8ipynb.ipynb\" target=\"_parent\"><img src=\"https://colab.research.google.com/assets/colab-badge.svg\" alt=\"Open In Colab\"/></a>"
      ]
    },
    {
      "cell_type": "markdown",
      "metadata": {
        "id": "8xBBXUakseKH"
      },
      "source": [
        "# Импорт бибилиотек"
      ]
    },
    {
      "cell_type": "code",
      "execution_count": null,
      "metadata": {
        "id": "JjxyQTK-sYnM"
      },
      "outputs": [],
      "source": [
        "import os\n",
        "import numpy as np\n",
        "import geopandas as gpd\n",
        "from shapely.ops import unary_union\n",
        "from tqdm import tqdm\n",
        "import time\n",
        "import pandas as pd\n",
        "import math"
      ]
    },
    {
      "cell_type": "markdown",
      "metadata": {
        "id": "8tWiCHIrsgxk"
      },
      "source": [
        "# Определение числовых параметров для расчёта"
      ]
    },
    {
      "cell_type": "code",
      "execution_count": null,
      "metadata": {
        "id": "MRgK5F4GsmYP"
      },
      "outputs": [],
      "source": [
        "# Площадки для малышей (до 3 лет) площадью 75 м^2\n",
        "S = 75  # Площадь в м^2\n",
        "CONFIG = {\n",
        "    'S': S,\n",
        "    # Параметры обработки полигонов\n",
        "    'inner_buffer': 20,                            # Величина внутреннего буфера (м)\n",
        "    'buffer_radius': math.sqrt(S / math.pi),       # Радиус буфера вокруг точек (м)\n",
        "\n",
        "    # Параметры сетки\n",
        "    'step': 2 * math.sqrt(S / math.pi) + 1,        # Шаг сетки (м)\n",
        "    'offset_step': 0.5,                            # Шаг смещения (м)\n",
        "\n",
        "    # Группировка данных\n",
        "    'density_bins': [0, 0.01, 0.1, 0.2, float('inf')],  # 4 границы = 4 интервала\n",
        "    'density_labels': ['0-0.01', '0.01-0.1', '0.1-0.2', '0.2+'],  # 4 метки для 4 интервалов\n",
        "    'target_group': '0-0.01',             # Обновлено для соответствия количеству бинов\n",
        "\n",
        "    # Системные настройки\n",
        "    'output_crs': 'EPSG:3857'                      # Система координат для вывода\n",
        "}"
      ]
    },
    {
      "cell_type": "code",
      "execution_count": null,
      "metadata": {
        "id": "XXOVaS-8TqzK"
      },
      "outputs": [],
      "source": [
        "# Площадки для детей от 3 до 7 лет площадью 150 м^2\n",
        "S = 150  # Площадь в м^2\n",
        "CONFIG = {\n",
        "    'S': S,\n",
        "    # Параметры обработки полигонов\n",
        "    'inner_buffer': 20,                           # Величина внутреннего буфера (м)\n",
        "    'buffer_radius': math.sqrt(S / math.pi),      # Радиус буфера вокруг точек (м)\n",
        "\n",
        "    # Параметры сетки\n",
        "    'step': 2 * math.sqrt(S / math.pi) + 1,      # Шаг сетки (м)\n",
        "    'offset_step': 0.5,                           # Шаг смещения (м)\n",
        "\n",
        "    # Группировка данных\n",
        "    'density_bins': [0, 0.01, float('inf')],\n",
        "    'density_labels': ['0-0.01', '0.01+'],        # Обновлено для соответствия количеству бинов\n",
        "\n",
        "    # Системные настройки\n",
        "    'output_crs': 'EPSG:3857'                     # Система координат для вывода\n",
        "}"
      ]
    },
    {
      "cell_type": "code",
      "execution_count": null,
      "metadata": {
        "id": "MAgarwtmen9r"
      },
      "outputs": [],
      "source": [
        "# Площадки для детей от 7 лет площадью 300 м^2\n",
        "S = 300  # Площадь в м^2\n",
        "CONFIG = {\n",
        "    'S': S,\n",
        "    # Параметры обработки полигонов\n",
        "    'inner_buffer': 20,                            # Величина внутреннего буфера (м)\n",
        "    'buffer_radius': math.sqrt(S / math.pi),       # Радиус буфера вокруг точек (м)\n",
        "\n",
        "    # Параметры сетки\n",
        "    'step': 2 * math.sqrt(S / math.pi) + 1,        # Шаг сетки (м)\n",
        "    'offset_step': 0.5,                            # Шаг смещения (м)\n",
        "\n",
        "    # Группировка данных\n",
        "    'density_bins': [0, 0.01, 0.1, 0.2, float('inf')],  # 4 границы = 4 интервала\n",
        "    'density_labels': ['0-0.01', '0.01-0.1', '0.1-0.2', '0.2+'],  # 4 метки для 4 интервалов\n",
        "    'target_group': '0-0.01',             # Обновлено для соответствия количеству бинов\n",
        "\n",
        "    # Системные настройки\n",
        "    'output_crs': 'EPSG:3857'                      # Система координат для вывода\n",
        "}"
      ]
    },
    {
      "cell_type": "code",
      "execution_count": null,
      "metadata": {
        "id": "rolMZe6JepmS"
      },
      "outputs": [],
      "source": [
        "# Комплексные игровые площадки площадью 900 м^2\n",
        "S = 900  # Площадь в м^2\n",
        "CONFIG = {\n",
        "    'S': S,\n",
        "    # Параметры обработки полигонов\n",
        "    'inner_buffer': 40,                            # Величина внутреннего буфера (м)\n",
        "    'buffer_radius': math.sqrt(S / math.pi),       # Радиус буфера вокруг точек (м)\n",
        "\n",
        "    # Параметры сетки\n",
        "    'step': 2 * math.sqrt(S / math.pi) + 1,        # Шаг сетки (м)\n",
        "    'offset_step': 0.5,                            # Шаг смещения (м)\n",
        "\n",
        "    # Группировка данных\n",
        "    'density_bins': [0, 0.01, 0.1, 0.2, float('inf')],  # 4 границы = 4 интервала\n",
        "    'density_labels': ['0-0.01', '0.01-0.1', '0.1-0.2', '0.2+'],  # 4 метки для 4 интервалов\n",
        "    'target_group': '0-0.01',             # Обновлено для соответствия количеству бинов\n",
        "\n",
        "    # Системные настройки\n",
        "    'output_crs': 'EPSG:3857'                      # Система координат для вывода\n",
        "}"
      ]
    },
    {
      "cell_type": "code",
      "execution_count": null,
      "metadata": {
        "id": "AQQ6erkjvyR1"
      },
      "outputs": [],
      "source": [
        "# Места для отдыха взрослых на расстоянии не меньше 30 м. друг от друга\n",
        "CONFIG = {\n",
        "    'S': S,\n",
        "    # Параметры обработки полигонов\n",
        "    'inner_buffer': 40,                            # Величина внутреннего буфера (м)\n",
        "    'buffer_radius': 10,       # Радиус буфера вокруг точек (м)\n",
        "\n",
        "    # Параметры сетки\n",
        "    'step': 2 * math.sqrt(S / math.pi) + 1,        # Шаг сетки (м)\n",
        "    'offset_step': 0.5,                            # Шаг смещения (м)\n",
        "\n",
        "    # Группировка данных\n",
        "    'density_bins': [0, 0.01, 0.1, 0.2, float('inf')],  # 4 границы = 4 интервала\n",
        "    'density_labels': ['0-0.01', '0.01-0.1', '0.1-0.2', '0.2+'],  # 4 метки для 4 интервалов\n",
        "    'target_group': '0-0.01',             # Обновлено для соответствия количеству бинов\n",
        "\n",
        "    # Системные настройки\n",
        "    'output_crs': 'EPSG:3857'                      # Система координат для вывода\n",
        "}"
      ]
    },
    {
      "cell_type": "markdown",
      "metadata": {
        "id": "_jefQRB_sqhU"
      },
      "source": [
        "Создание функций"
      ]
    },
    {
      "cell_type": "code",
      "execution_count": null,
      "metadata": {
        "id": "ZqcqnlKfUZvw"
      },
      "outputs": [],
      "source": [
        "import time\n",
        "import os\n",
        "import numpy as np\n",
        "import geopandas as gpd\n",
        "import pandas as pd\n",
        "from shapely.ops import unary_union\n",
        "def process_group(group_gdf, output_dir, group_name, params):\n",
        "    \"\"\"Обработка группы с параметрами из конфига\"\"\"\n",
        "    start_time = time.time()\n",
        "    # Применяем внутренний буфер и фильтруем валидные полигоны\n",
        "    valid_polygons = group_gdf.geometry.buffer(-params['inner_buffer'])\n",
        "    valid_polygons = valid_polygons[~valid_polygons.is_empty]\n",
        "    if valid_polygons.empty:\n",
        "        print(f\"Группа {group_name}: Нет валидных полигонов\")\n",
        "        return 0\n",
        "    # Объединение полигонов и получение bbox\n",
        "    union = unary_union(valid_polygons)\n",
        "    bbox = union.bounds\n",
        "    offsets = np.arange(0, params['step'], params['offset_step'])\n",
        "    print(f\"Обработка с параметрами: шаг={params['step']}м, радиус={params['buffer_radius']}м\")\n",
        "    total_files = 0\n",
        "    # Основной цикл обработки\n",
        "    for i, x_off in enumerate(offsets):\n",
        "        for j, y_off in enumerate(offsets):\n",
        "            x_coords = np.arange(bbox[0] + x_off, bbox[2], params['step'])\n",
        "            y_coords = np.arange(bbox[1] + y_off, bbox[3], params['step'])\n",
        "            if x_coords.size == 0 or y_coords.size == 0:\n",
        "                continue\n",
        "            # Генерация точек и фильтрация валидных\n",
        "            xx, yy = np.meshgrid(x_coords, y_coords, indexing='xy')\n",
        "            points = gpd.points_from_xy(xx.ravel(), yy.ravel(), crs=params['output_crs'])\n",
        "            valid_points = points[points.buffer(params['buffer_radius']).within(union)]\n",
        "            # Сохранение результатов\n",
        "            if valid_points:\n",
        "                filename = f\"{i * len(offsets) + j}_{len(valid_points)}_point.gpkg\"\n",
        "                gpd.GeoDataFrame(geometry=valid_points).to_file(os.path.join(output_dir, filename))\n",
        "                print(f\"Сохранён {filename} | Точек: {len(valid_points)}\")\n",
        "                total_files += 1\n",
        "    print(f\"Группа {group_name} завершена за {time.time() - start_time:.1f} сек\")\n",
        "    return total_files\n",
        "def process_single_range(input_path, output_dir, config):\n",
        "    \"\"\"Обрабатывает только указанный в config диапазон\"\"\"\n",
        "    try:\n",
        "        gdf = gpd.read_file(input_path)\n",
        "        non_place = gdf[gdf['non-place1'] == 'non-place'].copy()\n",
        "        # Проверка и группировка\n",
        "        if len(config['density_bins']) != len(config['density_labels']) + 1:\n",
        "            raise ValueError(\"Количество меток должно быть на 1 меньше количества границ\")\n",
        "        non_place['density_group'] = pd.cut(non_place['bench_density'], bins=config['density_bins'], labels=config['density_labels'])\n",
        "        # Фильтрация и обработка\n",
        "        target_data = non_place[non_place['density_group'] == config['target_group']]\n",
        "        if not target_data.empty:\n",
        "            total_files = process_group(target_data, output_dir, config['target_group'], params=config)\n",
        "            print(f\"\\nИтого сохранено файлов: {total_files}\")\n",
        "    except Exception as e:\n",
        "        print(f\"Ошибка: {e}\")"
      ]
    },
    {
      "cell_type": "markdown",
      "metadata": {
        "id": "IH4oubffVB7q"
      },
      "source": [
        "Применение"
      ]
    },
    {
      "cell_type": "code",
      "execution_count": null,
      "metadata": {
        "colab": {
          "base_uri": "https://localhost:8080/",
          "height": 1000
        },
        "id": "HAad77OhUmg4",
        "outputId": "0f393ae1-d10e-4285-b768-633c53114e67"
      },
      "outputs": [
        {
          "name": "stdout",
          "output_type": "stream",
          "text": [
            "Обработка с параметрами: шаг=34.851375012865375м, радиус=10м\n",
            "Сохранён 0_96_point.gpkg | Точек: 96\n",
            "Сохранён 1_91_point.gpkg | Точек: 91\n",
            "Сохранён 2_92_point.gpkg | Точек: 92\n",
            "Сохранён 3_93_point.gpkg | Точек: 93\n",
            "Сохранён 4_91_point.gpkg | Точек: 91\n",
            "Сохранён 5_92_point.gpkg | Точек: 92\n",
            "Сохранён 6_90_point.gpkg | Точек: 90\n",
            "Сохранён 7_92_point.gpkg | Точек: 92\n",
            "Сохранён 8_89_point.gpkg | Точек: 89\n",
            "Сохранён 9_91_point.gpkg | Точек: 91\n",
            "Сохранён 10_91_point.gpkg | Точек: 91\n",
            "Сохранён 11_90_point.gpkg | Точек: 90\n",
            "Сохранён 12_90_point.gpkg | Точек: 90\n",
            "Сохранён 13_90_point.gpkg | Точек: 90\n",
            "Сохранён 14_92_point.gpkg | Точек: 92\n",
            "Сохранён 15_93_point.gpkg | Точек: 93\n",
            "Сохранён 16_90_point.gpkg | Точек: 90\n",
            "Сохранён 17_93_point.gpkg | Точек: 93\n",
            "Сохранён 18_90_point.gpkg | Точек: 90\n",
            "Сохранён 19_89_point.gpkg | Точек: 89\n",
            "Сохранён 20_88_point.gpkg | Точек: 88\n",
            "Сохранён 21_88_point.gpkg | Точек: 88\n",
            "Сохранён 22_88_point.gpkg | Точек: 88\n",
            "Сохранён 23_87_point.gpkg | Точек: 87\n",
            "Сохранён 24_89_point.gpkg | Точек: 89\n",
            "Сохранён 25_87_point.gpkg | Точек: 87\n",
            "Сохранён 26_85_point.gpkg | Точек: 85\n",
            "Сохранён 27_85_point.gpkg | Точек: 85\n",
            "Сохранён 28_83_point.gpkg | Точек: 83\n",
            "Сохранён 29_86_point.gpkg | Точек: 86\n",
            "Сохранён 30_86_point.gpkg | Точек: 86\n",
            "Сохранён 31_86_point.gpkg | Точек: 86\n",
            "Сохранён 32_86_point.gpkg | Точек: 86\n",
            "Сохранён 33_85_point.gpkg | Точек: 85\n",
            "Сохранён 34_87_point.gpkg | Точек: 87\n",
            "Сохранён 35_86_point.gpkg | Точек: 86\n",
            "Сохранён 36_88_point.gpkg | Точек: 88\n",
            "Сохранён 37_88_point.gpkg | Точек: 88\n",
            "Сохранён 38_88_point.gpkg | Точек: 88\n",
            "Сохранён 39_89_point.gpkg | Точек: 89\n",
            "Сохранён 40_90_point.gpkg | Точек: 90\n",
            "Сохранён 41_88_point.gpkg | Точек: 88\n",
            "Сохранён 42_90_point.gpkg | Точек: 90\n",
            "Сохранён 43_89_point.gpkg | Точек: 89\n",
            "Сохранён 44_89_point.gpkg | Точек: 89\n",
            "Сохранён 45_92_point.gpkg | Точек: 92\n",
            "Сохранён 46_88_point.gpkg | Точек: 88\n",
            "Сохранён 47_88_point.gpkg | Точек: 88\n",
            "Сохранён 48_89_point.gpkg | Точек: 89\n",
            "Сохранён 49_90_point.gpkg | Точек: 90\n",
            "Сохранён 50_91_point.gpkg | Точек: 91\n",
            "Сохранён 51_91_point.gpkg | Точек: 91\n",
            "Сохранён 52_91_point.gpkg | Точек: 91\n",
            "Сохранён 53_91_point.gpkg | Точек: 91\n",
            "Сохранён 54_91_point.gpkg | Точек: 91\n",
            "Сохранён 55_91_point.gpkg | Точек: 91\n",
            "Сохранён 56_95_point.gpkg | Точек: 95\n",
            "Сохранён 57_98_point.gpkg | Точек: 98\n",
            "Сохранён 58_99_point.gpkg | Точек: 99\n",
            "Сохранён 59_100_point.gpkg | Точек: 100\n",
            "Сохранён 60_102_point.gpkg | Точек: 102\n",
            "Сохранён 61_100_point.gpkg | Точек: 100\n",
            "Сохранён 62_100_point.gpkg | Точек: 100\n",
            "Сохранён 63_96_point.gpkg | Точек: 96\n",
            "Сохранён 64_97_point.gpkg | Точек: 97\n",
            "Сохранён 65_99_point.gpkg | Точек: 99\n",
            "Сохранён 66_99_point.gpkg | Точек: 99\n",
            "Сохранён 67_99_point.gpkg | Точек: 99\n",
            "Сохранён 68_98_point.gpkg | Точек: 98\n",
            "Сохранён 69_96_point.gpkg | Точек: 96\n",
            "Сохранён 70_96_point.gpkg | Точек: 96\n",
            "Сохранён 71_94_point.gpkg | Точек: 94\n",
            "Сохранён 72_93_point.gpkg | Точек: 93\n",
            "Сохранён 73_93_point.gpkg | Точек: 93\n",
            "Сохранён 74_94_point.gpkg | Точек: 94\n",
            "Сохранён 75_91_point.gpkg | Точек: 91\n",
            "Сохранён 76_92_point.gpkg | Точек: 92\n",
            "Сохранён 77_91_point.gpkg | Точек: 91\n",
            "Сохранён 78_92_point.gpkg | Точек: 92\n",
            "Сохранён 79_92_point.gpkg | Точек: 92\n"
          ]
        },
        {
          "ename": "KeyboardInterrupt",
          "evalue": "",
          "output_type": "error",
          "traceback": [
            "\u001b[0;31m---------------------------------------------------------------------------\u001b[0m",
            "\u001b[0;31mKeyboardInterrupt\u001b[0m                         Traceback (most recent call last)",
            "\u001b[0;32m<ipython-input-10-fea5afa8ed38>\u001b[0m in \u001b[0;36m<cell line: 0>\u001b[0;34m()\u001b[0m\n\u001b[1;32m      6\u001b[0m     \u001b[0mos\u001b[0m\u001b[0;34m.\u001b[0m\u001b[0mmakedirs\u001b[0m\u001b[0;34m(\u001b[0m\u001b[0moutput_dir\u001b[0m\u001b[0;34m,\u001b[0m \u001b[0mexist_ok\u001b[0m\u001b[0;34m=\u001b[0m\u001b[0;32mTrue\u001b[0m\u001b[0;34m)\u001b[0m\u001b[0;34m\u001b[0m\u001b[0;34m\u001b[0m\u001b[0m\n\u001b[1;32m      7\u001b[0m \u001b[0;34m\u001b[0m\u001b[0m\n\u001b[0;32m----> 8\u001b[0;31m     \u001b[0mprocess_single_range\u001b[0m\u001b[0;34m(\u001b[0m\u001b[0minput_path\u001b[0m\u001b[0;34m,\u001b[0m \u001b[0moutput_dir\u001b[0m\u001b[0;34m,\u001b[0m \u001b[0mCUSTOM_CONFIG\u001b[0m\u001b[0;34m)\u001b[0m\u001b[0;34m\u001b[0m\u001b[0;34m\u001b[0m\u001b[0m\n\u001b[0m",
            "\u001b[0;32m<ipython-input-9-7b9cce26822a>\u001b[0m in \u001b[0;36mprocess_single_range\u001b[0;34m(input_path, output_dir, config)\u001b[0m\n\u001b[1;32m     51\u001b[0m         \u001b[0mtarget_data\u001b[0m \u001b[0;34m=\u001b[0m \u001b[0mnon_place\u001b[0m\u001b[0;34m[\u001b[0m\u001b[0mnon_place\u001b[0m\u001b[0;34m[\u001b[0m\u001b[0;34m'density_group'\u001b[0m\u001b[0;34m]\u001b[0m \u001b[0;34m==\u001b[0m \u001b[0mconfig\u001b[0m\u001b[0;34m[\u001b[0m\u001b[0;34m'target_group'\u001b[0m\u001b[0;34m]\u001b[0m\u001b[0;34m]\u001b[0m\u001b[0;34m\u001b[0m\u001b[0;34m\u001b[0m\u001b[0m\n\u001b[1;32m     52\u001b[0m         \u001b[0;32mif\u001b[0m \u001b[0;32mnot\u001b[0m \u001b[0mtarget_data\u001b[0m\u001b[0;34m.\u001b[0m\u001b[0mempty\u001b[0m\u001b[0;34m:\u001b[0m\u001b[0;34m\u001b[0m\u001b[0;34m\u001b[0m\u001b[0m\n\u001b[0;32m---> 53\u001b[0;31m             \u001b[0mtotal_files\u001b[0m \u001b[0;34m=\u001b[0m \u001b[0mprocess_group\u001b[0m\u001b[0;34m(\u001b[0m\u001b[0mtarget_data\u001b[0m\u001b[0;34m,\u001b[0m \u001b[0moutput_dir\u001b[0m\u001b[0;34m,\u001b[0m \u001b[0mconfig\u001b[0m\u001b[0;34m[\u001b[0m\u001b[0;34m'target_group'\u001b[0m\u001b[0;34m]\u001b[0m\u001b[0;34m,\u001b[0m \u001b[0mparams\u001b[0m\u001b[0;34m=\u001b[0m\u001b[0mconfig\u001b[0m\u001b[0;34m)\u001b[0m\u001b[0;34m\u001b[0m\u001b[0;34m\u001b[0m\u001b[0m\n\u001b[0m\u001b[1;32m     54\u001b[0m             \u001b[0mprint\u001b[0m\u001b[0;34m(\u001b[0m\u001b[0;34mf\"\\nИтого сохранено файлов: {total_files}\"\u001b[0m\u001b[0;34m)\u001b[0m\u001b[0;34m\u001b[0m\u001b[0;34m\u001b[0m\u001b[0m\n\u001b[1;32m     55\u001b[0m     \u001b[0;32mexcept\u001b[0m \u001b[0mException\u001b[0m \u001b[0;32mas\u001b[0m \u001b[0me\u001b[0m\u001b[0;34m:\u001b[0m\u001b[0;34m\u001b[0m\u001b[0;34m\u001b[0m\u001b[0m\n",
            "\u001b[0;32m<ipython-input-9-7b9cce26822a>\u001b[0m in \u001b[0;36mprocess_group\u001b[0;34m(group_gdf, output_dir, group_name, params)\u001b[0m\n\u001b[1;32m     30\u001b[0m             \u001b[0mxx\u001b[0m\u001b[0;34m,\u001b[0m \u001b[0myy\u001b[0m \u001b[0;34m=\u001b[0m \u001b[0mnp\u001b[0m\u001b[0;34m.\u001b[0m\u001b[0mmeshgrid\u001b[0m\u001b[0;34m(\u001b[0m\u001b[0mx_coords\u001b[0m\u001b[0;34m,\u001b[0m \u001b[0my_coords\u001b[0m\u001b[0;34m,\u001b[0m \u001b[0mindexing\u001b[0m\u001b[0;34m=\u001b[0m\u001b[0;34m'xy'\u001b[0m\u001b[0;34m)\u001b[0m\u001b[0;34m\u001b[0m\u001b[0;34m\u001b[0m\u001b[0m\n\u001b[1;32m     31\u001b[0m             \u001b[0mpoints\u001b[0m \u001b[0;34m=\u001b[0m \u001b[0mgpd\u001b[0m\u001b[0;34m.\u001b[0m\u001b[0mpoints_from_xy\u001b[0m\u001b[0;34m(\u001b[0m\u001b[0mxx\u001b[0m\u001b[0;34m.\u001b[0m\u001b[0mravel\u001b[0m\u001b[0;34m(\u001b[0m\u001b[0;34m)\u001b[0m\u001b[0;34m,\u001b[0m \u001b[0myy\u001b[0m\u001b[0;34m.\u001b[0m\u001b[0mravel\u001b[0m\u001b[0;34m(\u001b[0m\u001b[0;34m)\u001b[0m\u001b[0;34m,\u001b[0m \u001b[0mcrs\u001b[0m\u001b[0;34m=\u001b[0m\u001b[0mparams\u001b[0m\u001b[0;34m[\u001b[0m\u001b[0;34m'output_crs'\u001b[0m\u001b[0;34m]\u001b[0m\u001b[0;34m)\u001b[0m\u001b[0;34m\u001b[0m\u001b[0;34m\u001b[0m\u001b[0m\n\u001b[0;32m---> 32\u001b[0;31m             \u001b[0mvalid_points\u001b[0m \u001b[0;34m=\u001b[0m \u001b[0mpoints\u001b[0m\u001b[0;34m[\u001b[0m\u001b[0mpoints\u001b[0m\u001b[0;34m.\u001b[0m\u001b[0mbuffer\u001b[0m\u001b[0;34m(\u001b[0m\u001b[0mparams\u001b[0m\u001b[0;34m[\u001b[0m\u001b[0;34m'buffer_radius'\u001b[0m\u001b[0;34m]\u001b[0m\u001b[0;34m)\u001b[0m\u001b[0;34m.\u001b[0m\u001b[0mwithin\u001b[0m\u001b[0;34m(\u001b[0m\u001b[0munion\u001b[0m\u001b[0;34m)\u001b[0m\u001b[0;34m]\u001b[0m\u001b[0;34m\u001b[0m\u001b[0;34m\u001b[0m\u001b[0m\n\u001b[0m\u001b[1;32m     33\u001b[0m             \u001b[0;31m# Сохранение результатов\u001b[0m\u001b[0;34m\u001b[0m\u001b[0;34m\u001b[0m\u001b[0m\n\u001b[1;32m     34\u001b[0m             \u001b[0;32mif\u001b[0m \u001b[0mvalid_points\u001b[0m\u001b[0;34m:\u001b[0m\u001b[0;34m\u001b[0m\u001b[0;34m\u001b[0m\u001b[0m\n",
            "\u001b[0;32m/usr/local/lib/python3.11/dist-packages/geopandas/array.py\u001b[0m in \u001b[0;36mbuffer\u001b[0;34m(self, distance, resolution, **kwargs)\u001b[0m\n\u001b[1;32m    810\u001b[0m             \u001b[0mself\u001b[0m\u001b[0;34m.\u001b[0m\u001b[0mcheck_geographic_crs\u001b[0m\u001b[0;34m(\u001b[0m\u001b[0mstacklevel\u001b[0m\u001b[0;34m=\u001b[0m\u001b[0;36m5\u001b[0m\u001b[0;34m)\u001b[0m\u001b[0;34m\u001b[0m\u001b[0;34m\u001b[0m\u001b[0m\n\u001b[1;32m    811\u001b[0m         return GeometryArray(\n\u001b[0;32m--> 812\u001b[0;31m             \u001b[0mshapely\u001b[0m\u001b[0;34m.\u001b[0m\u001b[0mbuffer\u001b[0m\u001b[0;34m(\u001b[0m\u001b[0mself\u001b[0m\u001b[0;34m.\u001b[0m\u001b[0m_data\u001b[0m\u001b[0;34m,\u001b[0m \u001b[0mdistance\u001b[0m\u001b[0;34m,\u001b[0m \u001b[0mquad_segs\u001b[0m\u001b[0;34m=\u001b[0m\u001b[0mresolution\u001b[0m\u001b[0;34m,\u001b[0m \u001b[0;34m**\u001b[0m\u001b[0mkwargs\u001b[0m\u001b[0;34m)\u001b[0m\u001b[0;34m,\u001b[0m\u001b[0;34m\u001b[0m\u001b[0;34m\u001b[0m\u001b[0m\n\u001b[0m\u001b[1;32m    813\u001b[0m             \u001b[0mcrs\u001b[0m\u001b[0;34m=\u001b[0m\u001b[0mself\u001b[0m\u001b[0;34m.\u001b[0m\u001b[0mcrs\u001b[0m\u001b[0;34m,\u001b[0m\u001b[0;34m\u001b[0m\u001b[0;34m\u001b[0m\u001b[0m\n\u001b[1;32m    814\u001b[0m         )\n",
            "\u001b[0;32m/usr/local/lib/python3.11/dist-packages/shapely/decorators.py\u001b[0m in \u001b[0;36mwrapper\u001b[0;34m(*args, **kwargs)\u001b[0m\n\u001b[1;32m    171\u001b[0m         \u001b[0;34m@\u001b[0m\u001b[0mwraps\u001b[0m\u001b[0;34m(\u001b[0m\u001b[0mfunc\u001b[0m\u001b[0;34m)\u001b[0m\u001b[0;34m\u001b[0m\u001b[0;34m\u001b[0m\u001b[0m\n\u001b[1;32m    172\u001b[0m         \u001b[0;32mdef\u001b[0m \u001b[0mwrapper\u001b[0m\u001b[0;34m(\u001b[0m\u001b[0;34m*\u001b[0m\u001b[0margs\u001b[0m\u001b[0;34m,\u001b[0m \u001b[0;34m**\u001b[0m\u001b[0mkwargs\u001b[0m\u001b[0;34m)\u001b[0m\u001b[0;34m:\u001b[0m\u001b[0;34m\u001b[0m\u001b[0;34m\u001b[0m\u001b[0m\n\u001b[0;32m--> 173\u001b[0;31m             \u001b[0mresult\u001b[0m \u001b[0;34m=\u001b[0m \u001b[0mfunc\u001b[0m\u001b[0;34m(\u001b[0m\u001b[0;34m*\u001b[0m\u001b[0margs\u001b[0m\u001b[0;34m,\u001b[0m \u001b[0;34m**\u001b[0m\u001b[0mkwargs\u001b[0m\u001b[0;34m)\u001b[0m\u001b[0;34m\u001b[0m\u001b[0;34m\u001b[0m\u001b[0m\n\u001b[0m\u001b[1;32m    174\u001b[0m \u001b[0;34m\u001b[0m\u001b[0m\n\u001b[1;32m    175\u001b[0m             \u001b[0mn\u001b[0m \u001b[0;34m=\u001b[0m \u001b[0mlen\u001b[0m\u001b[0;34m(\u001b[0m\u001b[0margs\u001b[0m\u001b[0;34m)\u001b[0m\u001b[0;34m\u001b[0m\u001b[0;34m\u001b[0m\u001b[0m\n",
            "\u001b[0;32m/usr/local/lib/python3.11/dist-packages/shapely/decorators.py\u001b[0m in \u001b[0;36mwrapped\u001b[0;34m(*args, **kwargs)\u001b[0m\n\u001b[1;32m     86\u001b[0m             \u001b[0;32mfor\u001b[0m \u001b[0marr\u001b[0m \u001b[0;32min\u001b[0m \u001b[0marray_args\u001b[0m\u001b[0;34m:\u001b[0m\u001b[0;34m\u001b[0m\u001b[0;34m\u001b[0m\u001b[0m\n\u001b[1;32m     87\u001b[0m                 \u001b[0marr\u001b[0m\u001b[0;34m.\u001b[0m\u001b[0mflags\u001b[0m\u001b[0;34m.\u001b[0m\u001b[0mwriteable\u001b[0m \u001b[0;34m=\u001b[0m \u001b[0;32mFalse\u001b[0m\u001b[0;34m\u001b[0m\u001b[0;34m\u001b[0m\u001b[0m\n\u001b[0;32m---> 88\u001b[0;31m             \u001b[0;32mreturn\u001b[0m \u001b[0mfunc\u001b[0m\u001b[0;34m(\u001b[0m\u001b[0;34m*\u001b[0m\u001b[0margs\u001b[0m\u001b[0;34m,\u001b[0m \u001b[0;34m**\u001b[0m\u001b[0mkwargs\u001b[0m\u001b[0;34m)\u001b[0m\u001b[0;34m\u001b[0m\u001b[0;34m\u001b[0m\u001b[0m\n\u001b[0m\u001b[1;32m     89\u001b[0m         \u001b[0;32mfinally\u001b[0m\u001b[0;34m:\u001b[0m\u001b[0;34m\u001b[0m\u001b[0;34m\u001b[0m\u001b[0m\n\u001b[1;32m     90\u001b[0m             \u001b[0;32mfor\u001b[0m \u001b[0marr\u001b[0m\u001b[0;34m,\u001b[0m \u001b[0mold_flag\u001b[0m \u001b[0;32min\u001b[0m \u001b[0mzip\u001b[0m\u001b[0;34m(\u001b[0m\u001b[0marray_args\u001b[0m\u001b[0;34m,\u001b[0m \u001b[0mold_flags\u001b[0m\u001b[0;34m)\u001b[0m\u001b[0;34m:\u001b[0m\u001b[0;34m\u001b[0m\u001b[0;34m\u001b[0m\u001b[0m\n",
            "\u001b[0;32m/usr/local/lib/python3.11/dist-packages/shapely/constructive.py\u001b[0m in \u001b[0;36mbuffer\u001b[0;34m(geometry, distance, quad_segs, cap_style, join_style, mitre_limit, single_sided, **kwargs)\u001b[0m\n\u001b[1;32m    244\u001b[0m     \u001b[0;32mif\u001b[0m \u001b[0;32mnot\u001b[0m \u001b[0mnp\u001b[0m\u001b[0;34m.\u001b[0m\u001b[0misscalar\u001b[0m\u001b[0;34m(\u001b[0m\u001b[0msingle_sided\u001b[0m\u001b[0;34m)\u001b[0m\u001b[0;34m:\u001b[0m\u001b[0;34m\u001b[0m\u001b[0;34m\u001b[0m\u001b[0m\n\u001b[1;32m    245\u001b[0m         \u001b[0;32mraise\u001b[0m \u001b[0mTypeError\u001b[0m\u001b[0;34m(\u001b[0m\u001b[0;34m\"single_sided only accepts scalar values\"\u001b[0m\u001b[0;34m)\u001b[0m\u001b[0;34m\u001b[0m\u001b[0;34m\u001b[0m\u001b[0m\n\u001b[0;32m--> 246\u001b[0;31m     return lib.buffer(\n\u001b[0m\u001b[1;32m    247\u001b[0m         \u001b[0mgeometry\u001b[0m\u001b[0;34m,\u001b[0m\u001b[0;34m\u001b[0m\u001b[0;34m\u001b[0m\u001b[0m\n\u001b[1;32m    248\u001b[0m         \u001b[0mdistance\u001b[0m\u001b[0;34m,\u001b[0m\u001b[0;34m\u001b[0m\u001b[0;34m\u001b[0m\u001b[0m\n",
            "\u001b[0;31mKeyboardInterrupt\u001b[0m: "
          ]
        }
      ],
      "source": [
        "if __name__ == '__main__':\n",
        "    CUSTOM_CONFIG = CONFIG.copy()\n",
        "    CUSTOM_CONFIG['target_group'] = '0-0.01'  # Пример: обработать только группу '0-0.01'\n",
        "    input_path = \"/content/output_b (2).gpkg\"\n",
        "    output_dir = \"output_results\"\n",
        "    os.makedirs(output_dir, exist_ok=True)\n",
        "\n",
        "    process_single_range(input_path, output_dir, CUSTOM_CONFIG)"
      ]
    }
  ],
  "metadata": {
    "colab": {
      "provenance": [],
      "authorship_tag": "ABX9TyM5cLiGEkWu1i7m6mi3zqS5",
      "include_colab_link": true
    },
    "kernelspec": {
      "display_name": "Python 3",
      "name": "python3"
    },
    "language_info": {
      "name": "python"
    }
  },
  "nbformat": 4,
  "nbformat_minor": 0
}